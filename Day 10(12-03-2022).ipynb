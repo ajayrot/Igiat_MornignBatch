{
 "cells": [
  {
   "cell_type": "markdown",
   "metadata": {},
   "source": [
    "# Contact Application\n",
    "- Add Contacts\n",
    "- Search Contacts\n",
    "- update\n",
    "- Merge\n",
    "- Delet Contacts"
   ]
  },
  {
   "cell_type": "code",
   "execution_count": 2,
   "metadata": {},
   "outputs": [
    {
     "name": "stdout",
     "output_type": "stream",
     "text": [
      "Contact is added\n"
     ]
    }
   ],
   "source": [
    "# Add Contacts\n",
    "contacts = { }\n",
    "def addcontacts(name,number):\n",
    "    if name not in contacts:\n",
    "        contacts[name]= number\n",
    "        print(\"Contact is added\")\n",
    "    else:\n",
    "        print(\"Contact already exist\")\n",
    "addcontacts(\"Ajay\",\"24245243\")"
   ]
  },
  {
   "cell_type": "code",
   "execution_count": 3,
   "metadata": {},
   "outputs": [
    {
     "name": "stdout",
     "output_type": "stream",
     "text": [
      "Contact is added\n"
     ]
    }
   ],
   "source": [
    "addcontacts(\"Ravi\",\"254564685\")"
   ]
  },
  {
   "cell_type": "code",
   "execution_count": 4,
   "metadata": {},
   "outputs": [
    {
     "name": "stdout",
     "output_type": "stream",
     "text": [
      "Contact already exist\n"
     ]
    }
   ],
   "source": [
    "addcontacts(\"Ajay\",\"24245243\")"
   ]
  },
  {
   "cell_type": "code",
   "execution_count": 5,
   "metadata": {},
   "outputs": [
    {
     "data": {
      "text/plain": [
       "{'Ajay': '24245243', 'Ravi': '254564685'}"
      ]
     },
     "execution_count": 5,
     "metadata": {},
     "output_type": "execute_result"
    }
   ],
   "source": [
    "contacts"
   ]
  },
  {
   "cell_type": "code",
   "execution_count": 7,
   "metadata": {},
   "outputs": [
    {
     "name": "stdout",
     "output_type": "stream",
     "text": [
      "Ajay : 24245243\n"
     ]
    }
   ],
   "source": [
    "# Search Contacts\n",
    "def searchcontact(name):\n",
    "    if name in contacts:\n",
    "        print(name,\":\",contacts[name])\n",
    "    else:\n",
    "        print(\"Contact not exist\")\n",
    "searchcontact(\"Ajay\")"
   ]
  },
  {
   "cell_type": "code",
   "execution_count": 10,
   "metadata": {},
   "outputs": [
    {
     "name": "stdout",
     "output_type": "stream",
     "text": [
      "Contact deleted\n"
     ]
    }
   ],
   "source": [
    "# Dlete Contact\n",
    "def delcontact(name):\n",
    "    if name in contacts:\n",
    "        del contacts[name]\n",
    "        print(\"Contact deleted\")\n",
    "    else: \n",
    "        print(\"Contact not exist\")\n",
    "delcontact(\"Ajay\")"
   ]
  },
  {
   "cell_type": "code",
   "execution_count": 11,
   "metadata": {},
   "outputs": [
    {
     "name": "stdout",
     "output_type": "stream",
     "text": [
      "Contact not exist\n"
     ]
    }
   ],
   "source": [
    "delcontact(\"Ajay\")"
   ]
  },
  {
   "cell_type": "code",
   "execution_count": 12,
   "metadata": {},
   "outputs": [
    {
     "data": {
      "text/plain": [
       "{'Ravi': '254564685'}"
      ]
     },
     "execution_count": 12,
     "metadata": {},
     "output_type": "execute_result"
    }
   ],
   "source": [
    "contacts"
   ]
  },
  {
   "cell_type": "code",
   "execution_count": 14,
   "metadata": {},
   "outputs": [
    {
     "name": "stdout",
     "output_type": "stream",
     "text": [
      "3 contacts are added\n"
     ]
    }
   ],
   "source": [
    "# Merge Contacts:\n",
    "def mergecontact(newcontacts):\n",
    "    contacts.update(newcontacts)\n",
    "    print(len(newcontacts.keys()),\"contacts are added\")\n",
    "newcontacts ={\"RAj\":\"56456464\",\"ram\":\"54364\",\"Gopi\":\"5452\"} \n",
    "mergecontact(newcontacts)"
   ]
  },
  {
   "cell_type": "code",
   "execution_count": 15,
   "metadata": {},
   "outputs": [
    {
     "data": {
      "text/plain": [
       "{'Ravi': '254564685', 'RAj': '56456464', 'ram': '54364', 'Gopi': '5452'}"
      ]
     },
     "execution_count": 15,
     "metadata": {},
     "output_type": "execute_result"
    }
   ],
   "source": [
    "contacts"
   ]
  },
  {
   "cell_type": "markdown",
   "metadata": {},
   "source": [
    "# String Methods:\n",
    "- uypper\n",
    "- lower\n",
    "- join\n",
    "- split \n",
    "- replace"
   ]
  },
  {
   "cell_type": "code",
   "execution_count": 20,
   "metadata": {},
   "outputs": [
    {
     "name": "stdout",
     "output_type": "stream",
     "text": [
      "python\n",
      "PYTHON\n",
      "P y t h o n\n",
      "P,y,t,h,o,n\n",
      "P@y@t@h@o@n\n"
     ]
    }
   ],
   "source": [
    "s = \"Python\"\n",
    "print(s.lower())\n",
    "print(s.upper())\n",
    "print(\" \".join(s))\n",
    "print(\",\".join(s))\n",
    "print(\"@\".join(s))"
   ]
  },
  {
   "cell_type": "code",
   "execution_count": 23,
   "metadata": {},
   "outputs": [
    {
     "name": "stdout",
     "output_type": "stream",
     "text": [
      "['Python', 'Is', 'Simple', 'Programming', 'language']\n",
      "['Python I', ' Simple Programming language']\n",
      "['Python Is Simple Progr', 'mming l', 'ngu', 'ge']\n"
     ]
    }
   ],
   "source": [
    "# Split Method:\n",
    "s = \"Python Is Simple Programming language\"\n",
    "print(s.split())\n",
    "print(s.split(\"s\"))\n",
    "print(s.split(\"a\"))"
   ]
  },
  {
   "cell_type": "code",
   "execution_count": 24,
   "metadata": {},
   "outputs": [
    {
     "name": "stdout",
     "output_type": "stream",
     "text": [
      "Python Is Easy Programming language\n"
     ]
    }
   ],
   "source": [
    "s = \"Python Is Simple Programming language\"\n",
    "print(s.replace(\"Simple\",\"Easy\"))"
   ]
  },
  {
   "cell_type": "markdown",
   "metadata": {},
   "source": [
    "#  Boolean functions:\n",
    "- islower()\n",
    "- isupper()\n",
    "- istitle()\n",
    "- isalpha()\n",
    "- isnumeric()\n",
    "- isspace()"
   ]
  },
  {
   "cell_type": "code",
   "execution_count": 26,
   "metadata": {},
   "outputs": [
    {
     "name": "stdout",
     "output_type": "stream",
     "text": [
      "True\n"
     ]
    }
   ],
   "source": [
    "s = \"python\"\n",
    "print(s.islower())\n",
    "--------\n",
    "s1 = \"PYTHON\"\n",
    "print(s1.isupper())\n",
    "print(s.isupper())\n",
    "------------\n",
    "s2 = \"Python\"\n",
    "print(s2.istitle())\n",
    "-----\n",
    "s3 = \"Python\"\n",
    "print(s3.isalpha())\n",
    "------------\n",
    "s4 = \"1234\"\n",
    "print(s4.isnumeric())\n",
    "print(s3.isnumeric())\n",
    "-------------\n",
    "s5 = \" \"\n",
    "s6 = \" p \"\n",
    "print(s5.isspace())\n",
    "print(s6.isspace())"
   ]
  },
  {
   "cell_type": "code",
   "execution_count": 30,
   "metadata": {},
   "outputs": [
    {
     "name": "stdout",
     "output_type": "stream",
     "text": [
      "True\n",
      "False\n"
     ]
    }
   ],
   "source": []
  },
  {
   "cell_type": "code",
   "execution_count": 31,
   "metadata": {},
   "outputs": [
    {
     "name": "stdout",
     "output_type": "stream",
     "text": [
      "True\n"
     ]
    }
   ],
   "source": []
  },
  {
   "cell_type": "code",
   "execution_count": 34,
   "metadata": {},
   "outputs": [
    {
     "name": "stdout",
     "output_type": "stream",
     "text": [
      "True\n"
     ]
    }
   ],
   "source": []
  },
  {
   "cell_type": "code",
   "execution_count": 36,
   "metadata": {},
   "outputs": [
    {
     "name": "stdout",
     "output_type": "stream",
     "text": [
      "True\n",
      "False\n"
     ]
    }
   ],
   "source": []
  },
  {
   "cell_type": "code",
   "execution_count": 38,
   "metadata": {},
   "outputs": [
    {
     "name": "stdout",
     "output_type": "stream",
     "text": [
      "True\n",
      "False\n"
     ]
    }
   ],
   "source": []
  },
  {
   "cell_type": "markdown",
   "metadata": {},
   "source": [
    "# File Handling:\n",
    "- File handling play important role in making web application\n",
    "- in file handling to deal with any file will use **open** function\n",
    "- in this **Open** function will 2 parameters filename,mode\n",
    "- **Mode**\n",
    "- **w** -- write to file\n",
    "- **a** --append to file\n",
    "- **r** - read a file"
   ]
  },
  {
   "cell_type": "code",
   "execution_count": 45,
   "metadata": {},
   "outputs": [
    {
     "name": "stdout",
     "output_type": "stream",
     "text": [
      "Welcome to file handling\n"
     ]
    }
   ],
   "source": [
    "f = open(\"file.txt\",\"r\")\n",
    "print(f.read())"
   ]
  },
  {
   "cell_type": "code",
   "execution_count": 46,
   "metadata": {},
   "outputs": [
    {
     "name": "stdout",
     "output_type": "stream",
     "text": [
      "Welcom\n"
     ]
    }
   ],
   "source": [
    "f = open(\"file.txt\",\"r\")\n",
    "print(f.read(6))"
   ]
  },
  {
   "cell_type": "code",
   "execution_count": 50,
   "metadata": {},
   "outputs": [
    {
     "name": "stdout",
     "output_type": "stream",
     "text": [
      "Welcome to file handling\n",
      "\n",
      "this is line\n",
      "\n",
      "this is line\n",
      "\n",
      "this is line\n",
      "\n"
     ]
    }
   ],
   "source": [
    "f = open(\"file.txt\",\"r\")\n",
    "print(f.readline())\n",
    "print(f.readline())\n",
    "print(f.readline())\n",
    "print(f.readline())"
   ]
  },
  {
   "cell_type": "code",
   "execution_count": 51,
   "metadata": {},
   "outputs": [
    {
     "name": "stdout",
     "output_type": "stream",
     "text": [
      "file is created\n"
     ]
    }
   ],
   "source": [
    "# create a file and write something to file\n",
    "def createfile(filename):\n",
    "    f = open(filename,\"w\")\n",
    "    for i in range(10):\n",
    "        f.write(\"Hello world \\n\")\n",
    "    print(\"file is created\")\n",
    "createfile(\"text.txt\")"
   ]
  },
  {
   "cell_type": "code",
   "execution_count": 53,
   "metadata": {},
   "outputs": [
    {
     "name": "stdout",
     "output_type": "stream",
     "text": [
      "file is created\n"
     ]
    }
   ],
   "source": [
    "# Append\n",
    "def createfile(filename):\n",
    "    f = open(filename,\"a\")\n",
    "    for i in range(10):\n",
    "        f.write(\"this is line \\n\")\n",
    "    print(\"file is created\")\n",
    "createfile(\"text.txt\")"
   ]
  },
  {
   "cell_type": "code",
   "execution_count": null,
   "metadata": {},
   "outputs": [],
   "source": []
  }
 ],
 "metadata": {
  "kernelspec": {
   "display_name": "Python 3",
   "language": "python",
   "name": "python3"
  },
  "language_info": {
   "codemirror_mode": {
    "name": "ipython",
    "version": 3
   },
   "file_extension": ".py",
   "mimetype": "text/x-python",
   "name": "python",
   "nbconvert_exporter": "python",
   "pygments_lexer": "ipython3",
   "version": "3.7.3"
  }
 },
 "nbformat": 4,
 "nbformat_minor": 2
}
